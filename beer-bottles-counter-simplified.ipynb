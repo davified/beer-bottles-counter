{
 "cells": [
  {
   "cell_type": "code",
   "execution_count": 1,
   "metadata": {},
   "outputs": [
    {
     "name": "stderr",
     "output_type": "stream",
     "text": [
      "Using Theano backend.\n",
      "Using gpu device 0: Tesla K80 (CNMeM is disabled, cuDNN 5103)\n",
      "/home/ubuntu/anaconda2/lib/python2.7/site-packages/theano/sandbox/cuda/__init__.py:600: UserWarning: Your cuDNN version is more recent than the one Theano officially supports. If you see any problems, try updating Theano or downgrading cuDNN to version 5.\n",
      "  warnings.warn(warn)\n"
     ]
    }
   ],
   "source": [
    "import keras\n",
    "from keras import backend as K\n",
    "from keras.models import Sequential\n",
    "from keras.layers.core import Flatten, Dense, Dropout, Lambda\n",
    "from keras.layers.convolutional import Convolution2D, MaxPooling2D, ZeroPadding2D"
   ]
  },
  {
   "cell_type": "markdown",
   "metadata": {},
   "source": [
    "## Iteration 1: Vanilla VGG"
   ]
  },
  {
   "cell_type": "code",
   "execution_count": 1,
   "metadata": {},
   "outputs": [
    {
     "name": "stderr",
     "output_type": "stream",
     "text": [
      "Using Theano backend.\n",
      "Using gpu device 0: Tesla K80 (CNMeM is disabled, cuDNN 5103)\n",
      "/home/ubuntu/anaconda2/lib/python2.7/site-packages/theano/sandbox/cuda/__init__.py:600: UserWarning: Your cuDNN version is more recent than the one Theano officially supports. If you see any problems, try updating Theano or downgrading cuDNN to version 5.\n",
      "  warnings.warn(warn)\n"
     ]
    }
   ],
   "source": [
    "# Import our class, and instantiate\n",
    "import vgg16; reload(vgg16)\n",
    "from vgg16 import Vgg16\n",
    "\n",
    "vgg = Vgg16()"
   ]
  },
  {
   "cell_type": "code",
   "execution_count": 2,
   "metadata": {},
   "outputs": [
    {
     "name": "stdout",
     "output_type": "stream",
     "text": [
      "Found 177 images belonging to 3 classes.\n",
      "Found 54 images belonging to 3 classes.\n",
      "Epoch 1/10\n",
      "177/177 [==============================] - 71s - loss: 2.1443 - acc: 0.4237 - val_loss: 0.6559 - val_acc: 0.5926\n",
      "Epoch 2/10\n",
      "177/177 [==============================] - 44s - loss: 1.4448 - acc: 0.6215 - val_loss: 0.3276 - val_acc: 0.8148\n",
      "Epoch 3/10\n",
      "177/177 [==============================] - 42s - loss: 1.1404 - acc: 0.6554 - val_loss: 0.3021 - val_acc: 0.8519\n",
      "Epoch 4/10\n",
      "177/177 [==============================] - 43s - loss: 0.8307 - acc: 0.7232 - val_loss: 0.2346 - val_acc: 0.8889\n",
      "Epoch 5/10\n",
      "177/177 [==============================] - 45s - loss: 0.5926 - acc: 0.7853 - val_loss: 0.1338 - val_acc: 0.9630\n",
      "Epoch 6/10\n",
      "177/177 [==============================] - 41s - loss: 0.7036 - acc: 0.7684 - val_loss: 0.1570 - val_acc: 0.9444\n",
      "Epoch 7/10\n",
      "177/177 [==============================] - 40s - loss: 0.6176 - acc: 0.7853 - val_loss: 0.1494 - val_acc: 0.9444\n",
      "Epoch 8/10\n",
      "177/177 [==============================] - 42s - loss: 0.4209 - acc: 0.8475 - val_loss: 0.1434 - val_acc: 0.9444\n",
      "Epoch 9/10\n",
      "177/177 [==============================] - 41s - loss: 0.5424 - acc: 0.8079 - val_loss: 0.1220 - val_acc: 0.9444\n",
      "Epoch 10/10\n",
      "177/177 [==============================] - 42s - loss: 0.3947 - acc: 0.8757 - val_loss: 0.0885 - val_acc: 0.9815\n"
     ]
    }
   ],
   "source": [
    "path = \"./data/\"\n",
    "batch_size=64\n",
    "\n",
    "# Grab a few images at a time for training and validation.\n",
    "# NB: They must be in subdirectories named based on their category\n",
    "batches = vgg.get_batches(path+'train', batch_size=batch_size)\n",
    "val_batches = vgg.get_batches(path+'valid', batch_size=batch_size*2)\n",
    "vgg.finetune(batches)\n",
    "vgg.fit(batches, val_batches, nb_epoch=10)"
   ]
  },
  {
   "cell_type": "code",
   "execution_count": 4,
   "metadata": {},
   "outputs": [],
   "source": [
    "# Save model\n",
    "# NB: The models folder is added to .gitignore and is not in version control because the following .h5 file is >500MB.\n",
    "# Nonetheless, it's still useful to save it locally after you've run the training step.\n",
    "vgg.model.save('./models/vgg_iteration_1.h5')"
   ]
  }
 ],
 "metadata": {
  "kernelspec": {
   "display_name": "Python [default]",
   "language": "python",
   "name": "python2"
  },
  "language_info": {
   "codemirror_mode": {
    "name": "ipython",
    "version": 2
   },
   "file_extension": ".py",
   "mimetype": "text/x-python",
   "name": "python",
   "nbconvert_exporter": "python",
   "pygments_lexer": "ipython2",
   "version": "2.7.13"
  }
 },
 "nbformat": 4,
 "nbformat_minor": 2
}
