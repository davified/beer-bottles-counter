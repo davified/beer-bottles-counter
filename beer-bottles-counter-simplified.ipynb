{
 "cells": [
  {
   "cell_type": "code",
   "execution_count": 1,
   "metadata": {},
   "outputs": [
    {
     "name": "stderr",
     "output_type": "stream",
     "text": [
      "Using Theano backend.\n",
      "Using gpu device 0: Tesla K80 (CNMeM is disabled, cuDNN 5103)\n",
      "/home/ubuntu/anaconda2/lib/python2.7/site-packages/theano/sandbox/cuda/__init__.py:600: UserWarning: Your cuDNN version is more recent than the one Theano officially supports. If you see any problems, try updating Theano or downgrading cuDNN to version 5.\n",
      "  warnings.warn(warn)\n"
     ]
    }
   ],
   "source": [
    "import os\n",
    "import shutil\n",
    "import csv\n",
    "\n",
    "import keras\n",
    "from keras import backend as K\n",
    "from keras.utils.data_utils import get_file\n",
    "from keras.models import Sequential\n",
    "from keras.layers import Input\n",
    "from keras.layers.core import Flatten, Dense, Dropout, Lambda\n",
    "from keras.layers.convolutional import Convolution2D, MaxPooling2D, ZeroPadding2D\n",
    "from keras.optimizers import SGD, RMSprop\n",
    "from keras.preprocessing import image\n",
    "\n",
    "import pandas as pd\n",
    "\n",
    "%matplotlib inline\n",
    "\n",
    "from __future__ import division,print_function\n",
    "\n",
    "import os, json\n",
    "from glob import glob\n",
    "import numpy as np\n",
    "np.set_printoptions(precision=4, linewidth=100)\n",
    "from matplotlib import pyplot as plt"
   ]
  },
  {
   "cell_type": "code",
   "execution_count": 2,
   "metadata": {
    "collapsed": true
   },
   "outputs": [],
   "source": [
    "# import helpers\n",
    "import bcolz\n",
    "def save_array(fname, arr): c=bcolz.carray(arr, rootdir=fname, mode='w'); c.flush()\n",
    "def load_array(fname): return bcolz.open(fname)[:]"
   ]
  },
  {
   "cell_type": "markdown",
   "metadata": {},
   "source": [
    "## Iteration 1: Vanilla VGG"
   ]
  },
  {
   "cell_type": "code",
   "execution_count": 7,
   "metadata": {
    "collapsed": true
   },
   "outputs": [],
   "source": [
    "# Import our class, and instantiate\n",
    "import vgg16; reload(vgg16)\n",
    "from vgg16 import Vgg16\n",
    "\n",
    "vgg = Vgg16()"
   ]
  },
  {
   "cell_type": "code",
   "execution_count": 8,
   "metadata": {},
   "outputs": [
    {
     "name": "stdout",
     "output_type": "stream",
     "text": [
      "Found 177 images belonging to 3 classes.\n",
      "Found 54 images belonging to 3 classes.\n",
      "Epoch 1/10\n",
      "177/177 [==============================] - 88s - loss: 2.3750 - acc: 0.4294 - val_loss: 0.7190 - val_acc: 0.6667\n",
      "Epoch 2/10\n",
      "177/177 [==============================] - 55s - loss: 1.2882 - acc: 0.5876 - val_loss: 0.4207 - val_acc: 0.7593\n",
      "Epoch 3/10\n",
      "177/177 [==============================] - 55s - loss: 1.0134 - acc: 0.6215 - val_loss: 0.3235 - val_acc: 0.8519\n",
      "Epoch 4/10\n",
      "177/177 [==============================] - 57s - loss: 0.7868 - acc: 0.7627 - val_loss: 0.1599 - val_acc: 0.9630\n",
      "Epoch 5/10\n",
      "177/177 [==============================] - 56s - loss: 0.6343 - acc: 0.8023 - val_loss: 0.1302 - val_acc: 0.9630\n",
      "Epoch 6/10\n",
      "177/177 [==============================] - 57s - loss: 0.6036 - acc: 0.7910 - val_loss: 0.1222 - val_acc: 0.9815\n",
      "Epoch 7/10\n",
      "177/177 [==============================] - 55s - loss: 0.6162 - acc: 0.8362 - val_loss: 0.1259 - val_acc: 0.9815\n",
      "Epoch 8/10\n",
      "177/177 [==============================] - 68s - loss: 0.5567 - acc: 0.8249 - val_loss: 0.1048 - val_acc: 0.9815\n",
      "Epoch 9/10\n",
      "177/177 [==============================] - 59s - loss: 0.6076 - acc: 0.7966 - val_loss: 0.0787 - val_acc: 0.9630\n",
      "Epoch 10/10\n",
      "177/177 [==============================] - 55s - loss: 0.4497 - acc: 0.8305 - val_loss: 0.0663 - val_acc: 0.9815\n"
     ]
    }
   ],
   "source": [
    "path = \"./data/\"\n",
    "batch_size=64\n",
    "\n",
    "# Grab a few images at a time for training and validation.\n",
    "# NB: They must be in subdirectories named based on their category\n",
    "batches = vgg.get_batches(path+'train', batch_size=batch_size)\n",
    "val_batches = vgg.get_batches(path+'valid', batch_size=batch_size*2)\n",
    "vgg.finetune(batches)\n",
    "vgg.fit(batches, val_batches, nb_epoch=10)"
   ]
  },
  {
   "cell_type": "code",
   "execution_count": null,
   "metadata": {
    "collapsed": true
   },
   "outputs": [],
   "source": []
  }
 ],
 "metadata": {
  "kernelspec": {
   "display_name": "Python [default]",
   "language": "python",
   "name": "python2"
  },
  "language_info": {
   "codemirror_mode": {
    "name": "ipython",
    "version": 2
   },
   "file_extension": ".py",
   "mimetype": "text/x-python",
   "name": "python",
   "nbconvert_exporter": "python",
   "pygments_lexer": "ipython2",
   "version": "2.7.13"
  }
 },
 "nbformat": 4,
 "nbformat_minor": 2
}
