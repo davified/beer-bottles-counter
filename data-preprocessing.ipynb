{
 "cells": [
  {
   "cell_type": "code",
   "execution_count": 60,
   "metadata": {
    "collapsed": true
   },
   "outputs": [],
   "source": [
    "import pandas as pd"
   ]
  },
  {
   "cell_type": "markdown",
   "metadata": {},
   "source": [
    "TODO: davidtan [2017-08-25]\n",
    "- reduce size of images on VM\n",
    "- rename files to sequential numbers\n",
    "- create folders and sort files into folders\n",
    "  - data/\n",
    "    - test/\n",
    "      - \\*.jpg\n",
    "    - train/\n",
    "      - class_1\n",
    "      - class_2\n",
    "      - ...\n",
    "      - class_n\n",
    "    - valid/\n",
    "      - class_1\n",
    "      - class_2\n",
    "      - ...\n",
    "      - class_n\n",
    "    - train_labels.csv\n",
    "    \n",
    "- zip file\n",
    "- move a random subset of files from each class in ./data/train/class\\* to ./data/valid/class/*"
   ]
  },
  {
   "cell_type": "markdown",
   "metadata": {},
   "source": [
    "### Useful bash commands\n",
    "\n",
    "#### Rename: files as increasing integers\n",
    "find -name '*.jpg' | gawk 'BEGIN{ a=1 }{ printf \"mv %s %03d.jpg\\n\", $0, a++ }' | bash"
   ]
  },
  {
   "cell_type": "code",
   "execution_count": 52,
   "metadata": {
    "collapsed": true
   },
   "outputs": [],
   "source": [
    "# rename files to sequential numbers\n",
    "import os\n",
    "\n",
    "FList = os.listdir(os.getcwd())\n",
    "FListC = FList[1:]\n",
    "\n",
    "# m = 0\n",
    "# for i in FListC:\n",
    "#     fileExtension = os.path.splitext(i)[1]\n",
    "#     os.rename(i,str(m)+fileExtension)\n",
    "#     m = m+1"
   ]
  },
  {
   "cell_type": "code",
   "execution_count": 55,
   "metadata": {
    "scrolled": true
   },
   "outputs": [
    {
     "data": {
      "text/plain": [
       "['.DS_Store',\n",
       " '.git',\n",
       " '.gitignore',\n",
       " '.ipynb_checkpoints',\n",
       " 'beer-bottles-counter.ipynb',\n",
       " 'data',\n",
       " 'data-preprocessing.ipynb',\n",
       " 'utils.py',\n",
       " 'utils.pyc',\n",
       " 'vgg16.py',\n",
       " 'vgg16.pyc',\n",
       " 'vgg16bn.py',\n",
       " 'vgg16bn.pyc']"
      ]
     },
     "execution_count": 55,
     "metadata": {},
     "output_type": "execute_result"
    }
   ],
   "source": [
    "FList"
   ]
  },
  {
   "cell_type": "code",
   "execution_count": 59,
   "metadata": {
    "collapsed": true
   },
   "outputs": [],
   "source": [
    "# rename files to consecutive numbers \n",
    "import os, re\n",
    "\n",
    "i = 0\n",
    "for current_name in os.listdir('./data/train'):\n",
    "    os.rename(\"{}{}\".format(\"./data/train/\", current_name), \"{}{}{}\".format(\"./data/train/\", i, \".jpg\"))\n",
    "    i = i + 1"
   ]
  },
  {
   "cell_type": "code",
   "execution_count": 69,
   "metadata": {},
   "outputs": [
    {
     "data": {
      "text/html": [
       "<div>\n",
       "<style>\n",
       "    .dataframe thead tr:only-child th {\n",
       "        text-align: right;\n",
       "    }\n",
       "\n",
       "    .dataframe thead th {\n",
       "        text-align: left;\n",
       "    }\n",
       "\n",
       "    .dataframe tbody tr th {\n",
       "        vertical-align: top;\n",
       "    }\n",
       "</style>\n",
       "<table border=\"1\" class=\"dataframe\">\n",
       "  <thead>\n",
       "    <tr style=\"text-align: right;\">\n",
       "      <th></th>\n",
       "      <th>name</th>\n",
       "      <th>count</th>\n",
       "    </tr>\n",
       "  </thead>\n",
       "  <tbody>\n",
       "    <tr>\n",
       "      <th>0</th>\n",
       "      <td>0</td>\n",
       "      <td>12</td>\n",
       "    </tr>\n",
       "    <tr>\n",
       "      <th>1</th>\n",
       "      <td>1</td>\n",
       "      <td>12</td>\n",
       "    </tr>\n",
       "    <tr>\n",
       "      <th>2</th>\n",
       "      <td>2</td>\n",
       "      <td>12</td>\n",
       "    </tr>\n",
       "    <tr>\n",
       "      <th>3</th>\n",
       "      <td>3</td>\n",
       "      <td>12</td>\n",
       "    </tr>\n",
       "    <tr>\n",
       "      <th>4</th>\n",
       "      <td>4</td>\n",
       "      <td>12</td>\n",
       "    </tr>\n",
       "  </tbody>\n",
       "</table>\n",
       "</div>"
      ],
      "text/plain": [
       "   name count\n",
       "0     0    12\n",
       "1     1    12\n",
       "2     2    12\n",
       "3     3    12\n",
       "4     4    12"
      ]
     },
     "execution_count": 69,
     "metadata": {},
     "output_type": "execute_result"
    }
   ],
   "source": [
    "# Load labels\n",
    "df = pd.read_csv('./data/train_labels.csv')\n",
    "df.head()"
   ]
  },
  {
   "cell_type": "code",
   "execution_count": 1,
   "metadata": {
    "collapsed": true
   },
   "outputs": [],
   "source": [
    "# Move files to respective count folders\n",
    "# TODO: fix bug for moving imgaes with label '0' to '0' folder\n",
    "import os\n",
    "import shutil\n",
    "import csv\n",
    "\n",
    "dir_src = './data/train/'\n",
    "\n",
    "with open('./data/train_labels.csv', 'r') as f:\n",
    "    reader = csv.reader(f, delimiter = ',')\n",
    "    next(reader, None)  # skip the headers\n",
    "    \n",
    "    for rowDict in reader:\n",
    "        filename, label = rowDict\n",
    "        src_file = os.path.join(dir_src, \"{}{}\".format(filename, '.jpg'))\n",
    "        if os.path.exists(src_file):\n",
    "            destination = \"{}{}\".format(\"./data/train/\", label)\n",
    "            shutil.move(src_file, destination)\n"
   ]
  },
  {
   "cell_type": "code",
   "execution_count": null,
   "metadata": {
    "collapsed": true
   },
   "outputs": [],
   "source": []
  }
 ],
 "metadata": {
  "kernelspec": {
   "display_name": "Python 2",
   "language": "python",
   "name": "python2"
  },
  "language_info": {
   "codemirror_mode": {
    "name": "ipython",
    "version": 2
   },
   "file_extension": ".py",
   "mimetype": "text/x-python",
   "name": "python",
   "nbconvert_exporter": "python",
   "pygments_lexer": "ipython2",
   "version": "2.7.13"
  }
 },
 "nbformat": 4,
 "nbformat_minor": 2
}
